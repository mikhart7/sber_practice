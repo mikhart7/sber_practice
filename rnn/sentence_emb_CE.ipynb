{
  "cells": [
    {
      "cell_type": "code",
      "execution_count": 1,
      "metadata": {
        "id": "ijzb-vSnVCwT"
      },
      "outputs": [],
      "source": [
        "from pathlib import Path\n",
        "from torch.utils.data import Dataset, DataLoader\n",
        "import torch\n",
        "from torch import Tensor, nn\n",
        "import torch.nn.functional as F\n",
        "from transformers import AutoTokenizer, AutoModel\n"
      ]
    },
    {
      "cell_type": "code",
      "execution_count": null,
      "metadata": {
        "collapsed": true,
        "id": "t1s6bSFlVWWS"
      },
      "outputs": [],
      "source": [
        "%pip install datasets==2.21.0"
      ]
    },
    {
      "cell_type": "code",
      "execution_count": null,
      "metadata": {
        "collapsed": true,
        "id": "1Aanw3D3Yxhi"
      },
      "outputs": [],
      "source": [
        "from datasets import load_dataset\n",
        "\n",
        "train_dataset = load_dataset(\"bentrevett/multi30k\", split=\"train\")\n",
        "test_dataset = load_dataset(\"bentrevett/multi30k\", split=\"test\")"
      ]
    },
    {
      "cell_type": "code",
      "execution_count": 4,
      "metadata": {
        "id": "Yzf1rFKNY6H5"
      },
      "outputs": [],
      "source": [
        "def filter_dataset(dataset, minlen: int, maxlen: int) -> list[dict[str, str]]:\n",
        "    return [\n",
        "        dataset[i][\"en\"]\n",
        "        for i in range(len(dataset))\n",
        "        if len(dataset[i][\"en\"].split(\" \")) <= maxlen and len(dataset[i][\"en\"].split(\" \"))>=minlen\n",
        "    ]"
      ]
    },
    {
      "cell_type": "code",
      "execution_count": 5,
      "metadata": {
        "colab": {
          "base_uri": "https://localhost:8080/"
        },
        "id": "TiBQjM5tbRIY",
        "outputId": "f40576f9-7113-41c4-9bb8-e6b4eab446d9"
      },
      "outputs": [
        {
          "output_type": "stream",
          "name": "stdout",
          "text": [
            "28945 997\n"
          ]
        }
      ],
      "source": [
        "maxlen = 30\n",
        "minlen = 5\n",
        "train_filtered = filter_dataset(train_dataset, minlen, maxlen)\n",
        "test_filtered = filter_dataset(test_dataset, minlen, maxlen)\n",
        "print(len(train_filtered), len(test_filtered))"
      ]
    },
    {
      "cell_type": "code",
      "execution_count": 6,
      "metadata": {
        "colab": {
          "base_uri": "https://localhost:8080/"
        },
        "id": "qlScAJxqt67b",
        "outputId": "12c62512-2b47-42ff-c638-eec85f9e603e"
      },
      "outputs": [
        {
          "output_type": "execute_result",
          "data": {
            "text/plain": [
              "<torch._C.Generator at 0x782016ba1f50>"
            ]
          },
          "metadata": {},
          "execution_count": 6
        }
      ],
      "source": [
        "device = torch.device(\"cuda:0\" if torch.cuda.is_available() else \"cpu\")\n",
        "torch.manual_seed(42)"
      ]
    },
    {
      "cell_type": "code",
      "execution_count": 7,
      "metadata": {
        "colab": {
          "base_uri": "https://localhost:8080/",
          "height": 131,
          "referenced_widgets": [
            "74987640572c4450a2a1cf57cc4608ee",
            "8c4b1230bfb948b6bf93135670b5b18c",
            "381c90f0b52740879969052f81d4a2dd",
            "5e56bce486fb426084f6f5ca41f0735e",
            "d4debb136eda41abb0c3cd9758cc274f",
            "ef9123d026ae40f2840fecff120e8a3e",
            "1e84b2810ba84b89bd08816bb5b98863",
            "a292b25dc91a43868db123b1029778fc",
            "605d2c16b0784a58aea47618b5d3e78c",
            "b9c3abdbc9354015ba7cf4e09bd7ac3f",
            "a71b6bbd38b8420ea339498f09a6b944",
            "993952fe9263428f8d9de04c52b995db",
            "c80d3e099a784d969b647400266989c7",
            "5b6593294d334b218b57638d577a95b9",
            "67d53df8551f49baab5ec9c2ecd0b736",
            "f9fcff9be0da47e5baa441ef4213841c",
            "6b0e21db293443c8bad4852d5bc88d8e",
            "b08701fbe3cd49e6a6f67a216d2f97e3",
            "1b9cf1f9927d4ea7972038b58c10d9ed",
            "caeb5bc9c9944fb2b544365e3a98f146",
            "acbb8e10a7ad4c6e81c80076e0391f7e",
            "d57799df0db64fd4981fd46a201e82b5",
            "8158240667ea46eba724f462fb8a7eed",
            "b8d5d001277e4bdf9d819dcdae044084",
            "1be24e3a10dc4e25946b023f3559157d",
            "cf5c830eaca44e4cbeb794bfd6c65e98",
            "2dff9263049c45fdb99d11397742086d",
            "bc45f8490d3a4947a1c36cbeadb7ba8c",
            "783d28f6b6bf42b2b3cad94fa36d92f0",
            "6cee61660f764331814dbe6e3c1f20d4",
            "cde4655ff6004338bc97865fa845542b",
            "51a0cda08e284d2ea5d1dbf9a5eb2da7",
            "66f90a74d09646f7aed176ab6d469b03"
          ]
        },
        "id": "ZvOETlTdHtKt",
        "outputId": "afc8454e-4806-442d-f64d-80384e42ffdd"
      },
      "outputs": [
        {
          "output_type": "display_data",
          "data": {
            "text/plain": [
              "config.json:   0%|          | 0.00/409 [00:00<?, ?B/s]"
            ],
            "application/vnd.jupyter.widget-view+json": {
              "version_major": 2,
              "version_minor": 0,
              "model_id": "74987640572c4450a2a1cf57cc4608ee"
            }
          },
          "metadata": {}
        },
        {
          "output_type": "display_data",
          "data": {
            "text/plain": [
              "vocab.txt:   0%|          | 0.00/232k [00:00<?, ?B/s]"
            ],
            "application/vnd.jupyter.widget-view+json": {
              "version_major": 2,
              "version_minor": 0,
              "model_id": "993952fe9263428f8d9de04c52b995db"
            }
          },
          "metadata": {}
        },
        {
          "output_type": "display_data",
          "data": {
            "text/plain": [
              "pytorch_model.bin:   0%|          | 0.00/62.7M [00:00<?, ?B/s]"
            ],
            "application/vnd.jupyter.widget-view+json": {
              "version_major": 2,
              "version_minor": 0,
              "model_id": "8158240667ea46eba724f462fb8a7eed"
            }
          },
          "metadata": {}
        },
        {
          "output_type": "execute_result",
          "data": {
            "text/plain": [
              "torch.Size([30522, 312])"
            ]
          },
          "metadata": {},
          "execution_count": 7
        }
      ],
      "source": [
        "tokenizer = AutoTokenizer.from_pretrained(\"huawei-noah/TinyBERT_General_4L_312D\")\n",
        "tiny_bert_model = AutoModel.from_pretrained(\"huawei-noah/TinyBERT_General_4L_312D\").to(device)\n",
        "embedding_matrix = tiny_bert_model.embeddings.word_embeddings.weight\n",
        "embedding_matrix.shape"
      ]
    },
    {
      "cell_type": "code",
      "execution_count": null,
      "metadata": {
        "colab": {
          "base_uri": "https://localhost:8080/"
        },
        "id": "Ydtc1x3mr5ar",
        "outputId": "d695a312-ab73-42f7-efbd-40e36e078969"
      },
      "outputs": [
        {
          "name": "stdout",
          "output_type": "stream",
          "text": [
            "Размер словаря:  30522\n"
          ]
        }
      ],
      "source": [
        "print(\"Размер словаря: \", len(tokenizer))"
      ]
    },
    {
      "cell_type": "code",
      "execution_count": null,
      "metadata": {
        "colab": {
          "base_uri": "https://localhost:8080/"
        },
        "id": "5nYtvU2Xgks3",
        "outputId": "f05fd6d6-c405-4919-c232-0e65dd957e11"
      },
      "outputs": [
        {
          "name": "stdout",
          "output_type": "stream",
          "text": [
            "['Two young, White males are outside near many bushes.', 'Several men in hard hats are operating a giant pulley system.', 'A little girl climbing into a wooden playhouse.', 'A man in a blue shirt is standing on a ladder cleaning a window.']\n",
            "tensor([[  101,  2048,  2402,  1010,  2317,  3767,  2024,  2648,  2379,  2116,\n",
            "         14568,  1012,   102,     0,     0,     0,     0],\n",
            "        [  101,  2195,  2273,  1999,  2524, 16717,  2024,  4082,  1037,  5016,\n",
            "          4139,  3240,  2291,  1012,   102,     0,     0],\n",
            "        [  101,  1037,  2210,  2611,  8218,  2046,  1037,  4799, 17408,  1012,\n",
            "           102,     0,     0,     0,     0,     0,     0],\n",
            "        [  101,  1037,  2158,  1999,  1037,  2630,  3797,  2003,  3061,  2006,\n",
            "          1037, 10535,  9344,  1037,  3332,  1012,   102]])\n"
          ]
        }
      ],
      "source": [
        "batch = [train_filtered[i] for i in range(4)]\n",
        "print(batch)\n",
        "encoded_batch = tokenizer.batch_encode_plus(\n",
        "    batch, padding=\"longest\", return_tensors=\"pt\", return_attention_mask=False\n",
        ")['input_ids']\n",
        "print(encoded_batch)"
      ]
    },
    {
      "cell_type": "code",
      "execution_count": 8,
      "metadata": {
        "id": "TeFMZaM9p0Dl"
      },
      "outputs": [],
      "source": [
        "def collate_fn(\n",
        "    tokenizer: AutoTokenizer, batch: list[tuple[str, str]]\n",
        ") -> tuple[Tensor, Tensor]:\n",
        "    encoded_batch = tokenizer.batch_encode_plus(\n",
        "        batch, padding=\"longest\", return_tensors=\"pt\", return_attention_mask=False)['input_ids']\n",
        "    return encoded_batch.to(device)"
      ]
    },
    {
      "cell_type": "code",
      "execution_count": 9,
      "metadata": {
        "id": "QDwbf8zVjOVW"
      },
      "outputs": [],
      "source": [
        "train_loader = DataLoader(train_filtered, batch_size=32, shuffle=True, collate_fn=lambda batch:collate_fn(tokenizer,batch))\n",
        "test_loader = DataLoader(test_filtered, batch_size=32, shuffle=True, collate_fn=lambda batch:collate_fn(tokenizer,batch))\n",
        "tokens = next(iter(train_loader))"
      ]
    },
    {
      "cell_type": "code",
      "execution_count": null,
      "metadata": {
        "colab": {
          "base_uri": "https://localhost:8080/"
        },
        "id": "TCpXJ4PDuLEb",
        "outputId": "d84e3386-cb0a-4194-d01e-84215c005675"
      },
      "outputs": [
        {
          "data": {
            "text/plain": [
              "(torch.Size([32, 30]), torch.Size([32, 768]))"
            ]
          },
          "execution_count": 44,
          "metadata": {},
          "output_type": "execute_result"
        }
      ],
      "source": [
        "tokens.shape"
      ]
    },
    {
      "cell_type": "code",
      "execution_count": 10,
      "metadata": {
        "id": "qTXjNJsEnvlh"
      },
      "outputs": [],
      "source": [
        "class RNNCell(nn.Module):\n",
        "    \"\"\"\n",
        "    (x_{t}, h_{t-1}) -> h_{t}\n",
        "    \"\"\"\n",
        "    def __init__(self, input_dim: int, hidden_dim: int) -> None:\n",
        "        super().__init__()\n",
        "        self.linear = nn.Linear(input_dim+hidden_dim, hidden_dim)\n",
        "        torch.nn.init.kaiming_normal_(self.linear.weight, nonlinearity='tanh')\n",
        "\n",
        "    def forward(self, x: Tensor, h: Tensor) -> Tensor:\n",
        "        # x: B x input_dim\n",
        "        # h: B x hidden_dim\n",
        "        h = torch.cat([x, h], dim=1)\n",
        "        h = self.linear(h)\n",
        "        return F.tanh(h)"
      ]
    },
    {
      "cell_type": "code",
      "execution_count": 11,
      "metadata": {
        "id": "xJ0AKNrAnyUu"
      },
      "outputs": [],
      "source": [
        "class RNN_encoder(nn.Module):\n",
        "    def __init__(self, vocab_size: int, hidden_dim: int = 1024, cell: nn.Module = RNNCell, pretrained_emb_matrix: Tensor = embedding_matrix) -> None:\n",
        "        super().__init__()\n",
        "        self.init_h = nn.Parameter(data=torch.randn(1, hidden_dim))\n",
        "        self.embed = nn.Embedding.from_pretrained(pretrained_emb_matrix, freeze=True)\n",
        "        self.rnn = cell(pretrained_emb_matrix.size(1), hidden_dim)\n",
        "\n",
        "\n",
        "    def forward(self, x: Tensor) -> Tensor:\n",
        "        # x: B x T\n",
        "        # embed(x): B x T -> B x T x input_dim\n",
        "        B, T = x.shape\n",
        "\n",
        "        x = self.embed(x) # B x T x input_dim\n",
        "        h = self.init_h.expand((B, -1)) # B x hidden_dim\n",
        "\n",
        "        for t in range(T):\n",
        "            xt = x[:, t, :]\n",
        "            h = self.rnn.forward(xt, h)  # B x hidden\n",
        "\n",
        "        return h # B x hidden , берём последний выход rnn"
      ]
    },
    {
      "cell_type": "code",
      "execution_count": null,
      "metadata": {
        "colab": {
          "base_uri": "https://localhost:8080/"
        },
        "id": "sj6XCVLgB9VE",
        "outputId": "8bc2ba69-44fc-4882-942f-952fb0baaf69"
      },
      "outputs": [
        {
          "data": {
            "text/plain": [
              "torch.Size([32, 30])"
            ]
          },
          "execution_count": 45,
          "metadata": {},
          "output_type": "execute_result"
        }
      ],
      "source": [
        "tokens.shape"
      ]
    },
    {
      "cell_type": "code",
      "execution_count": null,
      "metadata": {
        "colab": {
          "base_uri": "https://localhost:8080/"
        },
        "id": "cyTs6kqFrvlv",
        "outputId": "0e7013a5-123f-4951-d71e-506b4b94ef5a"
      },
      "outputs": [
        {
          "name": "stdout",
          "output_type": "stream",
          "text": [
            "torch.Size([32, 1024])\n"
          ]
        }
      ],
      "source": [
        "encoder = RNN_encoder(\n",
        "    vocab_size=len(tokenizer)\n",
        ").to(device)\n",
        "sent_emb = encoder.forward(tokens)\n",
        "print(sent_emb.shape)"
      ]
    },
    {
      "cell_type": "code",
      "execution_count": 12,
      "metadata": {
        "id": "3pyg_45X8BBh"
      },
      "outputs": [],
      "source": [
        "class RNN_decoder(nn.Module):\n",
        "    def __init__(self, vocab_size: int, hidden_dim: int = 1024, cell: nn.Module = RNNCell) -> None:\n",
        "        super().__init__()\n",
        "        self.init_h = nn.Parameter(data=torch.randn(1, hidden_dim))\n",
        "        self.rnn = cell(hidden_dim, hidden_dim)\n",
        "        self.lm_head = nn.Linear(hidden_dim, vocab_size)\n",
        "\n",
        "\n",
        "    def forward(self, x: Tensor, T: int) -> Tensor:\n",
        "        # x: B x S (S - sentence_emb_dim)\n",
        "        B, S = x.shape\n",
        "        x = x.unsqueeze(1).expand((B, T, S))\n",
        "\n",
        "        h = self.init_h.expand((B, -1)) # B x hidden_dim\n",
        "\n",
        "        res = []\n",
        "        for t in range(T):\n",
        "            xt = x[:, t, :]\n",
        "            h = self.rnn.forward(xt, h)  # B x hidden\n",
        "            y = self.lm_head(h).unsqueeze(1)  # B x 1 x vocab_size, для каждой позиции на вызоде линейного слоя получаем логиты на размер словаря(для cross entropy)\n",
        "            res.append(y)\n",
        "\n",
        "        return torch.cat(res, dim=1) # B x T x vocab_size"
      ]
    },
    {
      "cell_type": "code",
      "execution_count": null,
      "metadata": {
        "colab": {
          "base_uri": "https://localhost:8080/"
        },
        "id": "9pjFyWv4AEwO",
        "outputId": "5793f550-c78d-4bca-d38d-c80cdb24880a"
      },
      "outputs": [
        {
          "data": {
            "text/plain": [
              "torch.Size([32, 30, 30522])"
            ]
          },
          "execution_count": 48,
          "metadata": {},
          "output_type": "execute_result"
        }
      ],
      "source": [
        "decoder = RNN_decoder(vocab_size=len(tokenizer)).to(device)\n",
        "decoder.forward(sent_emb, tokens.shape[1]).shape"
      ]
    },
    {
      "cell_type": "code",
      "execution_count": 25,
      "metadata": {
        "id": "HaOUeELQKVSB"
      },
      "outputs": [],
      "source": [
        "class SentenceAutoEncoder(nn.Module):\n",
        "  def __init__(self, vocab_size, hidden_dim:int=1024, pretrained_emb_matrix: Tensor = embedding_matrix)-> None:\n",
        "    super().__init__()\n",
        "    self.encoder = RNN_encoder(vocab_size,hidden_dim = hidden_dim, pretrained_emb_matrix=pretrained_emb_matrix)\n",
        "    self.l = nn.Linear(hidden_dim, hidden_dim)\n",
        "    self.dropout = nn.Dropout(0.3)\n",
        "    self.decoder = RNN_decoder(vocab_size, hidden_dim=hidden_dim)\n",
        "\n",
        "  def forward(self, x: Tensor)-> Tensor:\n",
        "    B, T = x.shape\n",
        "    sent_emb = self.encoder(x)\n",
        "\n",
        "    logits = self.decoder(sent_emb, T)\n",
        "\n",
        "    return logits\n",
        "\n"
      ]
    },
    {
      "cell_type": "code",
      "execution_count": 15,
      "metadata": {
        "colab": {
          "base_uri": "https://localhost:8080/"
        },
        "id": "jhUbzyKYMgqw",
        "outputId": "ff72d2e2-b157-466a-cd41-d610b55f0504"
      },
      "outputs": [
        {
          "output_type": "execute_result",
          "data": {
            "text/plain": [
              "(torch.Size([32, 26, 30522]), torch.Size([32, 26]))"
            ]
          },
          "metadata": {},
          "execution_count": 15
        }
      ],
      "source": [
        "autoencoder = SentenceAutoEncoder(vocab_size=len(tokenizer)).to(device)\n",
        "logits = autoencoder.forward(tokens)\n",
        "logits.shape, tokens.shape"
      ]
    },
    {
      "cell_type": "code",
      "execution_count": 16,
      "metadata": {
        "id": "T7KvELd8PIai"
      },
      "outputs": [],
      "source": [
        "def train_epoch(dataloader: DataLoader,model: nn.Module,optimizer: torch.optim.Optimizer):\n",
        "    model.train()\n",
        "    loss_total = 0\n",
        "    n_total = 0\n",
        "    n_correct = 0\n",
        "\n",
        "    for tokens in dataloader:\n",
        "        tokens = tokens.to(device)\n",
        "        logits = model(tokens)\n",
        "\n",
        "        #F.cross_entropy принимает два столбца, поэтому преобразуем форму(Bx T сливаем в одну размерность)\n",
        "        loss = F.cross_entropy(\n",
        "            logits.reshape(-1, len(tokenizer)),\n",
        "            tokens.reshape(-1),\n",
        "        )\n",
        "        loss.backward()\n",
        "        optimizer.step()\n",
        "        optimizer.zero_grad()\n",
        "        b_size = tokens.size(0)*tokens.size(1)\n",
        "        n_total += b_size\n",
        "        loss_total +=  b_size*loss.item()\n",
        "        n_correct += (tokens == logits.argmax(dim=-1)).sum().item()\n",
        "\n",
        "    loss=loss_total / n_total\n",
        "    acc = n_correct / n_total\n",
        "\n",
        "    train_loss.append(loss)\n",
        "    train_acc.append(acc)"
      ]
    },
    {
      "cell_type": "code",
      "execution_count": 17,
      "metadata": {
        "id": "KQMIZ20wPW6w"
      },
      "outputs": [],
      "source": [
        "@torch.no_grad()\n",
        "def test_epoch(dataloader: DataLoader,model: nn.Module):\n",
        "    model.eval()\n",
        "    loss_total = 0\n",
        "    n_total = 0\n",
        "    n_correct = 0\n",
        "\n",
        "    for tokens in dataloader:\n",
        "        tokens = tokens.to(device)\n",
        "        logits = model(tokens)\n",
        "\n",
        "        loss = F.cross_entropy(\n",
        "            logits.reshape(-1, len(tokenizer)),\n",
        "            tokens.reshape(-1),\n",
        "        )\n",
        "        b_size = tokens.size(0)*tokens.size(1)\n",
        "        n_total += b_size\n",
        "        loss_total +=  b_size*loss.item()\n",
        "        n_correct += (tokens == logits.argmax(dim=-1)).sum().item()\n",
        "\n",
        "    loss=loss_total / n_total\n",
        "    acc = n_correct / n_total\n",
        "\n",
        "    val_loss.append(loss)\n",
        "    val_acc.append(acc)"
      ]
    },
    {
      "cell_type": "code",
      "source": [
        "torch.manual_seed(42)\n",
        "model1 = SentenceAutoEncoder(vocab_size=len(tokenizer)).to(device)\n",
        "optimizer = torch.optim.Adam(model1.parameters(), lr=0.0001, weight_decay=1e-5)\n",
        "EPOCHS = 15\n",
        "train_loss = []\n",
        "val_loss = []\n",
        "train_acc = []\n",
        "val_acc = []\n",
        "\n",
        "for epoch in range(EPOCHS):\n",
        "    print(f\"EPOCH {epoch}\")\n",
        "    train_epoch(train_loader,model1,optimizer)\n",
        "    test_epoch(test_loader,model1)\n",
        "    print(f\"Train_loss={train_loss[-1]}, Val_loss={val_loss[-1]}\")\n",
        "    print(f\"Train_accuracy={train_acc[-1]}, Val_accuracy={val_acc[-1]}\")"
      ],
      "metadata": {
        "colab": {
          "base_uri": "https://localhost:8080/"
        },
        "id": "Xi27mGJVOOZw",
        "outputId": "151fa6cf-020e-4082-fe79-cabc7051c0f8"
      },
      "execution_count": 26,
      "outputs": [
        {
          "output_type": "stream",
          "name": "stdout",
          "text": [
            "EPOCH 0\n",
            "Train_loss=3.2914422167611526, Val_loss=2.723959313546553\n",
            "Train_accuracy=0.5097844695712175, Val_accuracy=0.5391008828635809\n",
            "EPOCH 1\n",
            "Train_loss=2.780677024789483, Val_loss=2.6572891567192105\n",
            "Train_accuracy=0.5583903318658548, Val_accuracy=0.5833646404688556\n",
            "EPOCH 2\n",
            "Train_loss=2.6650655933667164, Val_loss=2.749398625895804\n",
            "Train_accuracy=0.5814592225515502, Val_accuracy=0.5641408440447148\n",
            "EPOCH 3\n",
            "Train_loss=2.627821361251202, Val_loss=2.6138991496917265\n",
            "Train_accuracy=0.5864843037780434, Val_accuracy=0.5832076235328747\n",
            "EPOCH 4\n",
            "Train_loss=2.618971444056264, Val_loss=2.5646239615838344\n",
            "Train_accuracy=0.5869547588840787, Val_accuracy=0.6022526750516238\n",
            "EPOCH 5\n",
            "Train_loss=2.5935732343667968, Val_loss=2.54009936509486\n",
            "Train_accuracy=0.5904739677589274, Val_accuracy=0.6055495306832205\n",
            "EPOCH 6\n",
            "Train_loss=2.582607637673445, Val_loss=2.5300782441863663\n",
            "Train_accuracy=0.5911137267592989, Val_accuracy=0.6057244286665188\n",
            "EPOCH 7\n",
            "Train_loss=2.607668509216007, Val_loss=2.5892280371343297\n",
            "Train_accuracy=0.5860361702016481, Val_accuracy=0.5944142455482662\n",
            "EPOCH 8\n",
            "Train_loss=2.5767504315853897, Val_loss=2.52749324854477\n",
            "Train_accuracy=0.590376578324453, Val_accuracy=0.6049084249084249\n",
            "EPOCH 9\n",
            "Train_loss=2.54994201587628, Val_loss=2.548559902127891\n",
            "Train_accuracy=0.5947911330873206, Val_accuracy=0.6011955278403011\n",
            "EPOCH 10\n",
            "Train_loss=2.540645369139119, Val_loss=2.562495857773863\n",
            "Train_accuracy=0.5952942831244334, Val_accuracy=0.6023001508295626\n",
            "EPOCH 11\n",
            "Train_loss=2.548397363766714, Val_loss=2.5414033140854317\n",
            "Train_accuracy=0.5932980954033682, Val_accuracy=0.6051678428736791\n",
            "EPOCH 12\n",
            "Train_loss=2.5346654481389135, Val_loss=2.534065120088295\n",
            "Train_accuracy=0.5949576868829337, Val_accuracy=0.6077245575631655\n",
            "EPOCH 13\n",
            "Train_loss=2.538636353601071, Val_loss=2.498449538370527\n",
            "Train_accuracy=0.5938818496441735, Val_accuracy=0.6114354963093533\n",
            "EPOCH 14\n",
            "Train_loss=2.51661440361524, Val_loss=2.55586705665941\n",
            "Train_accuracy=0.5966410171670358, Val_accuracy=0.6021557693027434\n"
          ]
        }
      ]
    },
    {
      "cell_type": "code",
      "execution_count": 27,
      "metadata": {
        "colab": {
          "base_uri": "https://localhost:8080/",
          "height": 507
        },
        "id": "76noEPGN1M_r",
        "outputId": "ae8eaf3f-56e9-40e2-9197-e485fc3649c0"
      },
      "outputs": [
        {
          "output_type": "display_data",
          "data": {
            "text/plain": [
              "<Figure size 1000x500 with 1 Axes>"
            ],
            "image/png": "[encoded data removed]"
          },
          "metadata": {}
        }
      ],
      "source": [
        "import matplotlib.pyplot as plt\n",
        "\n",
        "def grafics(train_acc, val_acc, conf):\n",
        "    plt.figure(figsize=(10, 5))\n",
        "    plt.plot(train_acc, label=f\"Train {conf}\", marker='o')\n",
        "    plt.plot(val_acc, label=f\"Val {conf}\", marker='o')\n",
        "    plt.xlabel(\"Epoch\")\n",
        "    plt.ylabel(conf)\n",
        "    plt.legend()\n",
        "    plt.tight_layout()\n",
        "    plt.show()\n",
        "\n",
        "grafics(train_loss,val_loss, \"LOSS\")"
      ]
    },
    {
      "cell_type": "code",
      "execution_count": 28,
      "metadata": {
        "colab": {
          "base_uri": "https://localhost:8080/",
          "height": 507
        },
        "id": "G62GSv0iJR2x",
        "outputId": "ef9b6c60-5f69-4d89-fe01-a3b632416373"
      },
      "outputs": [
        {
          "output_type": "display_data",
          "data": {
            "text/plain": [
              "<Figure size 1000x500 with 1 Axes>"
            ],
            "image/png": "[encoded data removed]"
          },
          "metadata": {}
        }
      ],
      "source": [
        "grafics(train_acc,val_acc, \"Accuracy\")"
      ]
    },
    {
      "cell_type": "code",
      "execution_count": 29,
      "metadata": {
        "colab": {
          "base_uri": "https://localhost:8080/"
        },
        "id": "yov3AmGm1fgE",
        "outputId": "b58f6053-1fc7-4c34-9ef7-9d5062a39e58"
      },
      "outputs": [
        {
          "output_type": "execute_result",
          "data": {
            "text/plain": [
              "torch.Size([32, 30])"
            ]
          },
          "metadata": {},
          "execution_count": 29
        }
      ],
      "source": [
        "batch = next(iter(test_loader)).to(device)\n",
        "text_in = tokenizer.batch_decode(batch, skip_special_tokens=True)\n",
        "batch.shape"
      ]
    },
    {
      "cell_type": "code",
      "execution_count": 30,
      "metadata": {
        "colab": {
          "base_uri": "https://localhost:8080/"
        },
        "id": "4fx8gUbUHDAd",
        "outputId": "ffe4636f-867d-462c-85f2-376acb3a2566"
      },
      "outputs": [
        {
          "output_type": "execute_result",
          "data": {
            "text/plain": [
              "['in a outdoor market two men shovel snow and slush out of the path.',\n",
              " 'a woman plays with finger puppets as a small child in a costume walks by.',\n",
              " 'people sit on a bench in a city square with random objects including a lamp and a dressmakers form standing nearby.',\n",
              " 'a young boy is hanging onto a clothing rack.',\n",
              " 'a baby playing with her toys looking at a black and white cat.',\n",
              " 'a boy standing in the foreground looking out over other people in a court.',\n",
              " 'two women are holding hands over a table and smiling at the camera.',\n",
              " \"three children's legs are shown as they stand near a mess of silly string.\",\n",
              " 'a woman looks on as a man with folded arms is talking.',\n",
              " 'a man in a black and white jersey is holding yellow ski poles and preparing to take off.',\n",
              " 'shirtless guy staring off in the distance while three woman are walking past a crowd sitting outside a cafe.',\n",
              " 'a girl wearing a life vest floats in water.',\n",
              " 'a young girl shows her friends how to use a disposable camera.',\n",
              " 'a woman uses a drill while another man takes her picture.',\n",
              " 'a surfer in a blue swimsuit is riding the waves.',\n",
              " 'a boy at a gun range aims and shoots.',\n",
              " 'a woman and two men, that are dressed professionally, are having a discussion.',\n",
              " 'a young girl with curly blond - hair and wearing a white top lies in the grass, holding a flower stem.',\n",
              " 'a man sits on a bench listing to his ipod',\n",
              " 'a very young boy stares ahead as he is biting onto a small object.',\n",
              " 'a man seated on a platform with wheels is being pulled by a burrow.',\n",
              " 'two silhouetted people paddle a canoe on the ocean during sunset.',\n",
              " '# 8 for iowa state stiff arms a texas am player attempting to tackle him.',\n",
              " 'two children are playing on a bicycle.',\n",
              " 'a hockey player in a yellow jersey is guarding the goal.',\n",
              " 'two race cars, one red and one blue, are driving side by side down a racetrack while being watched by several onlookers.',\n",
              " 'the red car is ahead of the two cars in the background.',\n",
              " 'the teen jumps the hill with his bicycle.',\n",
              " 'a dance group performs in a parade in china.',\n",
              " 'military families are marching through new york on a rainy day.',\n",
              " 'four men, three of whom are wearing prayer caps, are sitting on a blue and olive green patterned mat.',\n",
              " 'a boy is playing checkers with an adult shown off - screen while a girl looks on.']"
            ]
          },
          "metadata": {},
          "execution_count": 30
        }
      ],
      "source": [
        "text_in"
      ]
    },
    {
      "cell_type": "code",
      "execution_count": 32,
      "metadata": {
        "id": "r28oNXwhDobA"
      },
      "outputs": [],
      "source": [
        "#Генерируем из probs выход модели как из мультиномиального распределения\n",
        "\n",
        "logits = model1.forward(batch)  # B x T x V\n",
        "probs = F.softmax(logits, dim=-1)\n",
        "B, T, V = logits.shape\n",
        "\n",
        "res = torch.multinomial(probs[:, 0], 1)\n",
        "for t in range(T-1):\n",
        "  token = torch.multinomial(probs[:, t+1], 1)\n",
        "  res= torch.cat([res, token], dim=-1)"
      ]
    },
    {
      "cell_type": "code",
      "execution_count": 33,
      "metadata": {
        "colab": {
          "base_uri": "https://localhost:8080/"
        },
        "id": "9lvxRcTuBqzJ",
        "outputId": "f7a3db22-15af-4802-bd23-235cf7a69f0d"
      },
      "outputs": [
        {
          "output_type": "execute_result",
          "data": {
            "text/plain": [
              "['two man runs in female at mask blue glossy in made on playing the background.',\n",
              " 'a men in in business are helmet a a fingers as stand shown a microphone.',\n",
              " 'a young of in with glasses t on water ; white says into, looking orangefield third pineoke play park.',\n",
              " 'an heading of ocean people a they working panel.',\n",
              " 'a orange in orange dark the are a area from an a parade.',\n",
              " 'a black dog is at -ed the to is hand stand thrown a him.',\n",
              " 'four man walking help time grassy on a a mechanical in being canvas.',\n",
              " 'a girl with ahak might sparkle flag into short fast a distant background blue uniform',\n",
              " 'several womanless plays red things one a hiding squattr construction.',\n",
              " 'a man of holding are place is as catching men are a is armed fountain through of ball.',\n",
              " 'a are players york a a the one wiresde cement front and a purse of other console a face.',\n",
              " 'work car of on pictures of other and rooftop.',\n",
              " 'here brown sweeps people orange outfit the a walking of flag exciting into cane. obscene',\n",
              " 'a large a a to while iss of old street.',\n",
              " 'the group sitting pink larson back grass on ; mountainous bushes.',\n",
              " 'a boy and red signs wave guns a flower.',\n",
              " 'a man women standing as of are haired of, in busy a sidewalk.',\n",
              " 'a men of sunly shirt looking and riding in shop at or wearing team with alliance, bernhard a masks mouth',\n",
              " 'two construction girls held a in swings thebee.',\n",
              " 'a are of moves andong is a colors umbrella tall to the lens.',\n",
              " 'a white cutting on a flipping tank his pantslpls of a tube shirt.',\n",
              " 'man group leans surfing chasing a as stepped are on tennis trees.',\n",
              " 'a lone bird walking his a and yellow which bend from is of someone watching.',\n",
              " 'three woman school wet in cheerfully panel.',\n",
              " 'a dirt with helps the large and next on stone grass.',\n",
              " 'a horseed wearing blue boyo to pink aপ shoes the the stage cap her a, the horns 247 lady vulcan behind. him',\n",
              " 'a man girl race and of across sellinging blow a mouth.',\n",
              " 'the football two playing apartment a the beach.',\n",
              " 'a little doing the of the down a happy.',\n",
              " 'two crowd wearing shaking green and are top of sand blue outdoors',\n",
              " 'jo men walksing coat each ga gym walk light her at stage lid table pursued people on in a it him',\n",
              " 'a in and drawing blue who sit a block tank is a down and three black her..']"
            ]
          },
          "metadata": {},
          "execution_count": 33
        }
      ],
      "source": [
        "#декодируем в текс\n",
        "tokenizer.batch_decode(res, skip_special_tokens=True)"
      ]
    }
  ],
  "metadata": {
    "accelerator": "GPU",
    "colab": {
      "gpuType": "T4",
      "provenance": []
    },
    "kernelspec": {
      "display_name": "Python 3",
      "name": "python3"
    },
    "language_info": {
      "name": "python"
    },
    "widgets": {
      "application/vnd.jupyter.widget-state+json": {
        "74987640572c4450a2a1cf57cc4608ee": {
          "model_module": "@jupyter-widgets/controls",
          "model_name": "HBoxModel",
          "model_module_version": "1.5.0",
          "state": {
            "_dom_classes": [],
            "_model_module": "@jupyter-widgets/controls",
            "_model_module_version": "1.5.0",
            "_model_name": "HBoxModel",
            "_view_count": null,
            "_view_module": "@jupyter-widgets/controls",
            "_view_module_version": "1.5.0",
            "_view_name": "HBoxView",
            "box_style": "",
            "children": [
              "IPY_MODEL_8c4b1230bfb948b6bf93135670b5b18c",
              "IPY_MODEL_381c90f0b52740879969052f81d4a2dd",
              "IPY_MODEL_5e56bce486fb426084f6f5ca41f0735e"
            ],
            "layout": "IPY_MODEL_d4debb136eda41abb0c3cd9758cc274f"
          }
        },
        "8c4b1230bfb948b6bf93135670b5b18c": {
          "model_module": "@jupyter-widgets/controls",
          "model_name": "HTMLModel",
          "model_module_version": "1.5.0",
          "state": {
            "_dom_classes": [],
            "_model_module": "@jupyter-widgets/controls",
            "_model_module_version": "1.5.0",
            "_model_name": "HTMLModel",
            "_view_count": null,
            "_view_module": "@jupyter-widgets/controls",
            "_view_module_version": "1.5.0",
            "_view_name": "HTMLView",
            "description": "",
            "description_tooltip": null,
            "layout": "IPY_MODEL_ef9123d026ae40f2840fecff120e8a3e",
            "placeholder": "​",
            "style": "IPY_MODEL_1e84b2810ba84b89bd08816bb5b98863",
            "value": "config.json: 100%"
          }
        },
        "381c90f0b52740879969052f81d4a2dd": {
          "model_module": "@jupyter-widgets/controls",
          "model_name": "FloatProgressModel",
          "model_module_version": "1.5.0",
          "state": {
            "_dom_classes": [],
            "_model_module": "@jupyter-widgets/controls",
            "_model_module_version": "1.5.0",
            "_model_name": "FloatProgressModel",
            "_view_count": null,
            "_view_module": "@jupyter-widgets/controls",
            "_view_module_version": "1.5.0",
            "_view_name": "ProgressView",
            "bar_style": "success",
            "description": "",
            "description_tooltip": null,
            "layout": "IPY_MODEL_a292b25dc91a43868db123b1029778fc",
            "max": 409,
            "min": 0,
            "orientation": "horizontal",
            "style": "IPY_MODEL_605d2c16b0784a58aea47618b5d3e78c",
            "value": 409
          }
        },
        "5e56bce486fb426084f6f5ca41f0735e": {
          "model_module": "@jupyter-widgets/controls",
          "model_name": "HTMLModel",
          "model_module_version": "1.5.0",
          "state": {
            "_dom_classes": [],
            "_model_module": "@jupyter-widgets/controls",
            "_model_module_version": "1.5.0",
            "_model_name": "HTMLModel",
            "_view_count": null,
            "_view_module": "@jupyter-widgets/controls",
            "_view_module_version": "1.5.0",
            "_view_name": "HTMLView",
            "description": "",
            "description_tooltip": null,
            "layout": "IPY_MODEL_b9c3abdbc9354015ba7cf4e09bd7ac3f",
            "placeholder": "​",
            "style": "IPY_MODEL_a71b6bbd38b8420ea339498f09a6b944",
            "value": " 409/409 [00:00&lt;00:00, 36.7kB/s]"
          }
        },
        "d4debb136eda41abb0c3cd9758cc274f": {
          "model_module": "@jupyter-widgets/base",
          "model_name": "LayoutModel",
          "model_module_version": "1.2.0",
          "state": {
            "_model_module": "@jupyter-widgets/base",
            "_model_module_version": "1.2.0",
            "_model_name": "LayoutModel",
            "_view_count": null,
            "_view_module": "@jupyter-widgets/base",
            "_view_module_version": "1.2.0",
            "_view_name": "LayoutView",
            "align_content": null,
            "align_items": null,
            "align_self": null,
            "border": null,
            "bottom": null,
            "display": null,
            "flex": null,
            "flex_flow": null,
            "grid_area": null,
            "grid_auto_columns": null,
            "grid_auto_flow": null,
            "grid_auto_rows": null,
            "grid_column": null,
            "grid_gap": null,
            "grid_row": null,
            "grid_template_areas": null,
            "grid_template_columns": null,
            "grid_template_rows": null,
            "height": null,
            "justify_content": null,
            "justify_items": null,
            "left": null,
            "margin": null,
            "max_height": null,
            "max_width": null,
            "min_height": null,
            "min_width": null,
            "object_fit": null,
            "object_position": null,
            "order": null,
            "overflow": null,
            "overflow_x": null,
            "overflow_y": null,
            "padding": null,
            "right": null,
            "top": null,
            "visibility": null,
            "width": null
          }
        },
        "ef9123d026ae40f2840fecff120e8a3e": {
          "model_module": "@jupyter-widgets/base",
          "model_name": "LayoutModel",
          "model_module_version": "1.2.0",
          "state": {
            "_model_module": "@jupyter-widgets/base",
            "_model_module_version": "1.2.0",
            "_model_name": "LayoutModel",
            "_view_count": null,
            "_view_module": "@jupyter-widgets/base",
            "_view_module_version": "1.2.0",
            "_view_name": "LayoutView",
            "align_content": null,
            "align_items": null,
            "align_self": null,
            "border": null,
            "bottom": null,
            "display": null,
            "flex": null,
            "flex_flow": null,
            "grid_area": null,
            "grid_auto_columns": null,
            "grid_auto_flow": null,
            "grid_auto_rows": null,
            "grid_column": null,
            "grid_gap": null,
            "grid_row": null,
            "grid_template_areas": null,
            "grid_template_columns": null,
            "grid_template_rows": null,
            "height": null,
            "justify_content": null,
            "justify_items": null,
            "left": null,
            "margin": null,
            "max_height": null,
            "max_width": null,
            "min_height": null,
            "min_width": null,
            "object_fit": null,
            "object_position": null,
            "order": null,
            "overflow": null,
            "overflow_x": null,
            "overflow_y": null,
            "padding": null,
            "right": null,
            "top": null,
            "visibility": null,
            "width": null
          }
        },
        "1e84b2810ba84b89bd08816bb5b98863": {
          "model_module": "@jupyter-widgets/controls",
          "model_name": "DescriptionStyleModel",
          "model_module_version": "1.5.0",
          "state": {
            "_model_module": "@jupyter-widgets/controls",
            "_model_module_version": "1.5.0",
            "_model_name": "DescriptionStyleModel",
            "_view_count": null,
            "_view_module": "@jupyter-widgets/base",
            "_view_module_version": "1.2.0",
            "_view_name": "StyleView",
            "description_width": ""
          }
        },
        "a292b25dc91a43868db123b1029778fc": {
          "model_module": "@jupyter-widgets/base",
          "model_name": "LayoutModel",
          "model_module_version": "1.2.0",
          "state": {
            "_model_module": "@jupyter-widgets/base",
            "_model_module_version": "1.2.0",
            "_model_name": "LayoutModel",
            "_view_count": null,
            "_view_module": "@jupyter-widgets/base",
            "_view_module_version": "1.2.0",
            "_view_name": "LayoutView",
            "align_content": null,
            "align_items": null,
            "align_self": null,
            "border": null,
            "bottom": null,
            "display": null,
            "flex": null,
            "flex_flow": null,
            "grid_area": null,
            "grid_auto_columns": null,
            "grid_auto_flow": null,
            "grid_auto_rows": null,
            "grid_column": null,
            "grid_gap": null,
            "grid_row": null,
            "grid_template_areas": null,
            "grid_template_columns": null,
            "grid_template_rows": null,
            "height": null,
            "justify_content": null,
            "justify_items": null,
            "left": null,
            "margin": null,
            "max_height": null,
            "max_width": null,
            "min_height": null,
            "min_width": null,
            "object_fit": null,
            "object_position": null,
            "order": null,
            "overflow": null,
            "overflow_x": null,
            "overflow_y": null,
            "padding": null,
            "right": null,
            "top": null,
            "visibility": null,
            "width": null
          }
        },
        "605d2c16b0784a58aea47618b5d3e78c": {
          "model_module": "@jupyter-widgets/controls",
          "model_name": "ProgressStyleModel",
          "model_module_version": "1.5.0",
          "state": {
            "_model_module": "@jupyter-widgets/controls",
            "_model_module_version": "1.5.0",
            "_model_name": "ProgressStyleModel",
            "_view_count": null,
            "_view_module": "@jupyter-widgets/base",
            "_view_module_version": "1.2.0",
            "_view_name": "StyleView",
            "bar_color": null,
            "description_width": ""
          }
        },
        "b9c3abdbc9354015ba7cf4e09bd7ac3f": {
          "model_module": "@jupyter-widgets/base",
          "model_name": "LayoutModel",
          "model_module_version": "1.2.0",
          "state": {
            "_model_module": "@jupyter-widgets/base",
            "_model_module_version": "1.2.0",
            "_model_name": "LayoutModel",
            "_view_count": null,
            "_view_module": "@jupyter-widgets/base",
            "_view_module_version": "1.2.0",
            "_view_name": "LayoutView",
            "align_content": null,
            "align_items": null,
            "align_self": null,
            "border": null,
            "bottom": null,
            "display": null,
            "flex": null,
            "flex_flow": null,
            "grid_area": null,
            "grid_auto_columns": null,
            "grid_auto_flow": null,
            "grid_auto_rows": null,
            "grid_column": null,
            "grid_gap": null,
            "grid_row": null,
            "grid_template_areas": null,
            "grid_template_columns": null,
            "grid_template_rows": null,
            "height": null,
            "justify_content": null,
            "justify_items": null,
            "left": null,
            "margin": null,
            "max_height": null,
            "max_width": null,
            "min_height": null,
            "min_width": null,
            "object_fit": null,
            "object_position": null,
            "order": null,
            "overflow": null,
            "overflow_x": null,
            "overflow_y": null,
            "padding": null,
            "right": null,
            "top": null,
            "visibility": null,
            "width": null
          }
        },
        "a71b6bbd38b8420ea339498f09a6b944": {
          "model_module": "@jupyter-widgets/controls",
          "model_name": "DescriptionStyleModel",
          "model_module_version": "1.5.0",
          "state": {
            "_model_module": "@jupyter-widgets/controls",
            "_model_module_version": "1.5.0",
            "_model_name": "DescriptionStyleModel",
            "_view_count": null,
            "_view_module": "@jupyter-widgets/base",
            "_view_module_version": "1.2.0",
            "_view_name": "StyleView",
            "description_width": ""
          }
        },
        "993952fe9263428f8d9de04c52b995db": {
          "model_module": "@jupyter-widgets/controls",
          "model_name": "HBoxModel",
          "model_module_version": "1.5.0",
          "state": {
            "_dom_classes": [],
            "_model_module": "@jupyter-widgets/controls",
            "_model_module_version": "1.5.0",
            "_model_name": "HBoxModel",
            "_view_count": null,
            "_view_module": "@jupyter-widgets/controls",
            "_view_module_version": "1.5.0",
            "_view_name": "HBoxView",
            "box_style": "",
            "children": [
              "IPY_MODEL_c80d3e099a784d969b647400266989c7",
              "IPY_MODEL_5b6593294d334b218b57638d577a95b9",
              "IPY_MODEL_67d53df8551f49baab5ec9c2ecd0b736"
            ],
            "layout": "IPY_MODEL_f9fcff9be0da47e5baa441ef4213841c"
          }
        },
        "c80d3e099a784d969b647400266989c7": {
          "model_module": "@jupyter-widgets/controls",
          "model_name": "HTMLModel",
          "model_module_version": "1.5.0",
          "state": {
            "_dom_classes": [],
            "_model_module": "@jupyter-widgets/controls",
            "_model_module_version": "1.5.0",
            "_model_name": "HTMLModel",
            "_view_count": null,
            "_view_module": "@jupyter-widgets/controls",
            "_view_module_version": "1.5.0",
            "_view_name": "HTMLView",
            "description": "",
            "description_tooltip": null,
            "layout": "IPY_MODEL_6b0e21db293443c8bad4852d5bc88d8e",
            "placeholder": "​",
            "style": "IPY_MODEL_b08701fbe3cd49e6a6f67a216d2f97e3",
            "value": "vocab.txt: 100%"
          }
        },
        "5b6593294d334b218b57638d577a95b9": {
          "model_module": "@jupyter-widgets/controls",
          "model_name": "FloatProgressModel",
          "model_module_version": "1.5.0",
          "state": {
            "_dom_classes": [],
            "_model_module": "@jupyter-widgets/controls",
            "_model_module_version": "1.5.0",
            "_model_name": "FloatProgressModel",
            "_view_count": null,
            "_view_module": "@jupyter-widgets/controls",
            "_view_module_version": "1.5.0",
            "_view_name": "ProgressView",
            "bar_style": "success",
            "description": "",
            "description_tooltip": null,
            "layout": "IPY_MODEL_1b9cf1f9927d4ea7972038b58c10d9ed",
            "max": 231508,
            "min": 0,
            "orientation": "horizontal",
            "style": "IPY_MODEL_caeb5bc9c9944fb2b544365e3a98f146",
            "value": 231508
          }
        },
        "67d53df8551f49baab5ec9c2ecd0b736": {
          "model_module": "@jupyter-widgets/controls",
          "model_name": "HTMLModel",
          "model_module_version": "1.5.0",
          "state": {
            "_dom_classes": [],
            "_model_module": "@jupyter-widgets/controls",
            "_model_module_version": "1.5.0",
            "_model_name": "HTMLModel",
            "_view_count": null,
            "_view_module": "@jupyter-widgets/controls",
            "_view_module_version": "1.5.0",
            "_view_name": "HTMLView",
            "description": "",
            "description_tooltip": null,
            "layout": "IPY_MODEL_acbb8e10a7ad4c6e81c80076e0391f7e",
            "placeholder": "​",
            "style": "IPY_MODEL_d57799df0db64fd4981fd46a201e82b5",
            "value": " 232k/232k [00:00&lt;00:00, 13.3MB/s]"
          }
        },
        "f9fcff9be0da47e5baa441ef4213841c": {
          "model_module": "@jupyter-widgets/base",
          "model_name": "LayoutModel",
          "model_module_version": "1.2.0",
          "state": {
            "_model_module": "@jupyter-widgets/base",
            "_model_module_version": "1.2.0",
            "_model_name": "LayoutModel",
            "_view_count": null,
            "_view_module": "@jupyter-widgets/base",
            "_view_module_version": "1.2.0",
            "_view_name": "LayoutView",
            "align_content": null,
            "align_items": null,
            "align_self": null,
            "border": null,
            "bottom": null,
            "display": null,
            "flex": null,
            "flex_flow": null,
            "grid_area": null,
            "grid_auto_columns": null,
            "grid_auto_flow": null,
            "grid_auto_rows": null,
            "grid_column": null,
            "grid_gap": null,
            "grid_row": null,
            "grid_template_areas": null,
            "grid_template_columns": null,
            "grid_template_rows": null,
            "height": null,
            "justify_content": null,
            "justify_items": null,
            "left": null,
            "margin": null,
            "max_height": null,
            "max_width": null,
            "min_height": null,
            "min_width": null,
            "object_fit": null,
            "object_position": null,
            "order": null,
            "overflow": null,
            "overflow_x": null,
            "overflow_y": null,
            "padding": null,
            "right": null,
            "top": null,
            "visibility": null,
            "width": null
          }
        },
        "6b0e21db293443c8bad4852d5bc88d8e": {
          "model_module": "@jupyter-widgets/base",
          "model_name": "LayoutModel",
          "model_module_version": "1.2.0",
          "state": {
            "_model_module": "@jupyter-widgets/base",
            "_model_module_version": "1.2.0",
            "_model_name": "LayoutModel",
            "_view_count": null,
            "_view_module": "@jupyter-widgets/base",
            "_view_module_version": "1.2.0",
            "_view_name": "LayoutView",
            "align_content": null,
            "align_items": null,
            "align_self": null,
            "border": null,
            "bottom": null,
            "display": null,
            "flex": null,
            "flex_flow": null,
            "grid_area": null,
            "grid_auto_columns": null,
            "grid_auto_flow": null,
            "grid_auto_rows": null,
            "grid_column": null,
            "grid_gap": null,
            "grid_row": null,
            "grid_template_areas": null,
            "grid_template_columns": null,
            "grid_template_rows": null,
            "height": null,
            "justify_content": null,
            "justify_items": null,
            "left": null,
            "margin": null,
            "max_height": null,
            "max_width": null,
            "min_height": null,
            "min_width": null,
            "object_fit": null,
            "object_position": null,
            "order": null,
            "overflow": null,
            "overflow_x": null,
            "overflow_y": null,
            "padding": null,
            "right": null,
            "top": null,
            "visibility": null,
            "width": null
          }
        },
        "b08701fbe3cd49e6a6f67a216d2f97e3": {
          "model_module": "@jupyter-widgets/controls",
          "model_name": "DescriptionStyleModel",
          "model_module_version": "1.5.0",
          "state": {
            "_model_module": "@jupyter-widgets/controls",
            "_model_module_version": "1.5.0",
            "_model_name": "DescriptionStyleModel",
            "_view_count": null,
            "_view_module": "@jupyter-widgets/base",
            "_view_module_version": "1.2.0",
            "_view_name": "StyleView",
            "description_width": ""
          }
        },
        "1b9cf1f9927d4ea7972038b58c10d9ed": {
          "model_module": "@jupyter-widgets/base",
          "model_name": "LayoutModel",
          "model_module_version": "1.2.0",
          "state": {
            "_model_module": "@jupyter-widgets/base",
            "_model_module_version": "1.2.0",
            "_model_name": "LayoutModel",
            "_view_count": null,
            "_view_module": "@jupyter-widgets/base",
            "_view_module_version": "1.2.0",
            "_view_name": "LayoutView",
            "align_content": null,
            "align_items": null,
            "align_self": null,
            "border": null,
            "bottom": null,
            "display": null,
            "flex": null,
            "flex_flow": null,
            "grid_area": null,
            "grid_auto_columns": null,
            "grid_auto_flow": null,
            "grid_auto_rows": null,
            "grid_column": null,
            "grid_gap": null,
            "grid_row": null,
            "grid_template_areas": null,
            "grid_template_columns": null,
            "grid_template_rows": null,
            "height": null,
            "justify_content": null,
            "justify_items": null,
            "left": null,
            "margin": null,
            "max_height": null,
            "max_width": null,
            "min_height": null,
            "min_width": null,
            "object_fit": null,
            "object_position": null,
            "order": null,
            "overflow": null,
            "overflow_x": null,
            "overflow_y": null,
            "padding": null,
            "right": null,
            "top": null,
            "visibility": null,
            "width": null
          }
        },
        "caeb5bc9c9944fb2b544365e3a98f146": {
          "model_module": "@jupyter-widgets/controls",
          "model_name": "ProgressStyleModel",
          "model_module_version": "1.5.0",
          "state": {
            "_model_module": "@jupyter-widgets/controls",
            "_model_module_version": "1.5.0",
            "_model_name": "ProgressStyleModel",
            "_view_count": null,
            "_view_module": "@jupyter-widgets/base",
            "_view_module_version": "1.2.0",
            "_view_name": "StyleView",
            "bar_color": null,
            "description_width": ""
          }
        },
        "acbb8e10a7ad4c6e81c80076e0391f7e": {
          "model_module": "@jupyter-widgets/base",
          "model_name": "LayoutModel",
          "model_module_version": "1.2.0",
          "state": {
            "_model_module": "@jupyter-widgets/base",
            "_model_module_version": "1.2.0",
            "_model_name": "LayoutModel",
            "_view_count": null,
            "_view_module": "@jupyter-widgets/base",
            "_view_module_version": "1.2.0",
            "_view_name": "LayoutView",
            "align_content": null,
            "align_items": null,
            "align_self": null,
            "border": null,
            "bottom": null,
            "display": null,
            "flex": null,
            "flex_flow": null,
            "grid_area": null,
            "grid_auto_columns": null,
            "grid_auto_flow": null,
            "grid_auto_rows": null,
            "grid_column": null,
            "grid_gap": null,
            "grid_row": null,
            "grid_template_areas": null,
            "grid_template_columns": null,
            "grid_template_rows": null,
            "height": null,
            "justify_content": null,
            "justify_items": null,
            "left": null,
            "margin": null,
            "max_height": null,
            "max_width": null,
            "min_height": null,
            "min_width": null,
            "object_fit": null,
            "object_position": null,
            "order": null,
            "overflow": null,
            "overflow_x": null,
            "overflow_y": null,
            "padding": null,
            "right": null,
            "top": null,
            "visibility": null,
            "width": null
          }
        },
        "d57799df0db64fd4981fd46a201e82b5": {
          "model_module": "@jupyter-widgets/controls",
          "model_name": "DescriptionStyleModel",
          "model_module_version": "1.5.0",
          "state": {
            "_model_module": "@jupyter-widgets/controls",
            "_model_module_version": "1.5.0",
            "_model_name": "DescriptionStyleModel",
            "_view_count": null,
            "_view_module": "@jupyter-widgets/base",
            "_view_module_version": "1.2.0",
            "_view_name": "StyleView",
            "description_width": ""
          }
        },
        "8158240667ea46eba724f462fb8a7eed": {
          "model_module": "@jupyter-widgets/controls",
          "model_name": "HBoxModel",
          "model_module_version": "1.5.0",
          "state": {
            "_dom_classes": [],
            "_model_module": "@jupyter-widgets/controls",
            "_model_module_version": "1.5.0",
            "_model_name": "HBoxModel",
            "_view_count": null,
            "_view_module": "@jupyter-widgets/controls",
            "_view_module_version": "1.5.0",
            "_view_name": "HBoxView",
            "box_style": "",
            "children": [
              "IPY_MODEL_b8d5d001277e4bdf9d819dcdae044084",
              "IPY_MODEL_1be24e3a10dc4e25946b023f3559157d",
              "IPY_MODEL_cf5c830eaca44e4cbeb794bfd6c65e98"
            ],
            "layout": "IPY_MODEL_2dff9263049c45fdb99d11397742086d"
          }
        },
        "b8d5d001277e4bdf9d819dcdae044084": {
          "model_module": "@jupyter-widgets/controls",
          "model_name": "HTMLModel",
          "model_module_version": "1.5.0",
          "state": {
            "_dom_classes": [],
            "_model_module": "@jupyter-widgets/controls",
            "_model_module_version": "1.5.0",
            "_model_name": "HTMLModel",
            "_view_count": null,
            "_view_module": "@jupyter-widgets/controls",
            "_view_module_version": "1.5.0",
            "_view_name": "HTMLView",
            "description": "",
            "description_tooltip": null,
            "layout": "IPY_MODEL_bc45f8490d3a4947a1c36cbeadb7ba8c",
            "placeholder": "​",
            "style": "IPY_MODEL_783d28f6b6bf42b2b3cad94fa36d92f0",
            "value": "pytorch_model.bin: 100%"
          }
        },
        "1be24e3a10dc4e25946b023f3559157d": {
          "model_module": "@jupyter-widgets/controls",
          "model_name": "FloatProgressModel",
          "model_module_version": "1.5.0",
          "state": {
            "_dom_classes": [],
            "_model_module": "@jupyter-widgets/controls",
            "_model_module_version": "1.5.0",
            "_model_name": "FloatProgressModel",
            "_view_count": null,
            "_view_module": "@jupyter-widgets/controls",
            "_view_module_version": "1.5.0",
            "_view_name": "ProgressView",
            "bar_style": "success",
            "description": "",
            "description_tooltip": null,
            "layout": "IPY_MODEL_6cee61660f764331814dbe6e3c1f20d4",
            "max": 62747391,
            "min": 0,
            "orientation": "horizontal",
            "style": "IPY_MODEL_cde4655ff6004338bc97865fa845542b",
            "value": 62747391
          }
        },
        "cf5c830eaca44e4cbeb794bfd6c65e98": {
          "model_module": "@jupyter-widgets/controls",
          "model_name": "HTMLModel",
          "model_module_version": "1.5.0",
          "state": {
            "_dom_classes": [],
            "_model_module": "@jupyter-widgets/controls",
            "_model_module_version": "1.5.0",
            "_model_name": "HTMLModel",
            "_view_count": null,
            "_view_module": "@jupyter-widgets/controls",
            "_view_module_version": "1.5.0",
            "_view_name": "HTMLView",
            "description": "",
            "description_tooltip": null,
            "layout": "IPY_MODEL_51a0cda08e284d2ea5d1dbf9a5eb2da7",
            "placeholder": "​",
            "style": "IPY_MODEL_66f90a74d09646f7aed176ab6d469b03",
            "value": " 62.7M/62.7M [00:02&lt;00:00, 21.4MB/s]"
          }
        },
        "2dff9263049c45fdb99d11397742086d": {
          "model_module": "@jupyter-widgets/base",
          "model_name": "LayoutModel",
          "model_module_version": "1.2.0",
          "state": {
            "_model_module": "@jupyter-widgets/base",
            "_model_module_version": "1.2.0",
            "_model_name": "LayoutModel",
            "_view_count": null,
            "_view_module": "@jupyter-widgets/base",
            "_view_module_version": "1.2.0",
            "_view_name": "LayoutView",
            "align_content": null,
            "align_items": null,
            "align_self": null,
            "border": null,
            "bottom": null,
            "display": null,
            "flex": null,
            "flex_flow": null,
            "grid_area": null,
            "grid_auto_columns": null,
            "grid_auto_flow": null,
            "grid_auto_rows": null,
            "grid_column": null,
            "grid_gap": null,
            "grid_row": null,
            "grid_template_areas": null,
            "grid_template_columns": null,
            "grid_template_rows": null,
            "height": null,
            "justify_content": null,
            "justify_items": null,
            "left": null,
            "margin": null,
            "max_height": null,
            "max_width": null,
            "min_height": null,
            "min_width": null,
            "object_fit": null,
            "object_position": null,
            "order": null,
            "overflow": null,
            "overflow_x": null,
            "overflow_y": null,
            "padding": null,
            "right": null,
            "top": null,
            "visibility": null,
            "width": null
          }
        },
        "bc45f8490d3a4947a1c36cbeadb7ba8c": {
          "model_module": "@jupyter-widgets/base",
          "model_name": "LayoutModel",
          "model_module_version": "1.2.0",
          "state": {
            "_model_module": "@jupyter-widgets/base",
            "_model_module_version": "1.2.0",
            "_model_name": "LayoutModel",
            "_view_count": null,
            "_view_module": "@jupyter-widgets/base",
            "_view_module_version": "1.2.0",
            "_view_name": "LayoutView",
            "align_content": null,
            "align_items": null,
            "align_self": null,
            "border": null,
            "bottom": null,
            "display": null,
            "flex": null,
            "flex_flow": null,
            "grid_area": null,
            "grid_auto_columns": null,
            "grid_auto_flow": null,
            "grid_auto_rows": null,
            "grid_column": null,
            "grid_gap": null,
            "grid_row": null,
            "grid_template_areas": null,
            "grid_template_columns": null,
            "grid_template_rows": null,
            "height": null,
            "justify_content": null,
            "justify_items": null,
            "left": null,
            "margin": null,
            "max_height": null,
            "max_width": null,
            "min_height": null,
            "min_width": null,
            "object_fit": null,
            "object_position": null,
            "order": null,
            "overflow": null,
            "overflow_x": null,
            "overflow_y": null,
            "padding": null,
            "right": null,
            "top": null,
            "visibility": null,
            "width": null
          }
        },
        "783d28f6b6bf42b2b3cad94fa36d92f0": {
          "model_module": "@jupyter-widgets/controls",
          "model_name": "DescriptionStyleModel",
          "model_module_version": "1.5.0",
          "state": {
            "_model_module": "@jupyter-widgets/controls",
            "_model_module_version": "1.5.0",
            "_model_name": "DescriptionStyleModel",
            "_view_count": null,
            "_view_module": "@jupyter-widgets/base",
            "_view_module_version": "1.2.0",
            "_view_name": "StyleView",
            "description_width": ""
          }
        },
        "6cee61660f764331814dbe6e3c1f20d4": {
          "model_module": "@jupyter-widgets/base",
          "model_name": "LayoutModel",
          "model_module_version": "1.2.0",
          "state": {
            "_model_module": "@jupyter-widgets/base",
            "_model_module_version": "1.2.0",
            "_model_name": "LayoutModel",
            "_view_count": null,
            "_view_module": "@jupyter-widgets/base",
            "_view_module_version": "1.2.0",
            "_view_name": "LayoutView",
            "align_content": null,
            "align_items": null,
            "align_self": null,
            "border": null,
            "bottom": null,
            "display": null,
            "flex": null,
            "flex_flow": null,
            "grid_area": null,
            "grid_auto_columns": null,
            "grid_auto_flow": null,
            "grid_auto_rows": null,
            "grid_column": null,
            "grid_gap": null,
            "grid_row": null,
            "grid_template_areas": null,
            "grid_template_columns": null,
            "grid_template_rows": null,
            "height": null,
            "justify_content": null,
            "justify_items": null,
            "left": null,
            "margin": null,
            "max_height": null,
            "max_width": null,
            "min_height": null,
            "min_width": null,
            "object_fit": null,
            "object_position": null,
            "order": null,
            "overflow": null,
            "overflow_x": null,
            "overflow_y": null,
            "padding": null,
            "right": null,
            "top": null,
            "visibility": null,
            "width": null
          }
        },
        "cde4655ff6004338bc97865fa845542b": {
          "model_module": "@jupyter-widgets/controls",
          "model_name": "ProgressStyleModel",
          "model_module_version": "1.5.0",
          "state": {
            "_model_module": "@jupyter-widgets/controls",
            "_model_module_version": "1.5.0",
            "_model_name": "ProgressStyleModel",
            "_view_count": null,
            "_view_module": "@jupyter-widgets/base",
            "_view_module_version": "1.2.0",
            "_view_name": "StyleView",
            "bar_color": null,
            "description_width": ""
          }
        },
        "51a0cda08e284d2ea5d1dbf9a5eb2da7": {
          "model_module": "@jupyter-widgets/base",
          "model_name": "LayoutModel",
          "model_module_version": "1.2.0",
          "state": {
            "_model_module": "@jupyter-widgets/base",
            "_model_module_version": "1.2.0",
            "_model_name": "LayoutModel",
            "_view_count": null,
            "_view_module": "@jupyter-widgets/base",
            "_view_module_version": "1.2.0",
            "_view_name": "LayoutView",
            "align_content": null,
            "align_items": null,
            "align_self": null,
            "border": null,
            "bottom": null,
            "display": null,
            "flex": null,
            "flex_flow": null,
            "grid_area": null,
            "grid_auto_columns": null,
            "grid_auto_flow": null,
            "grid_auto_rows": null,
            "grid_column": null,
            "grid_gap": null,
            "grid_row": null,
            "grid_template_areas": null,
            "grid_template_columns": null,
            "grid_template_rows": null,
            "height": null,
            "justify_content": null,
            "justify_items": null,
            "left": null,
            "margin": null,
            "max_height": null,
            "max_width": null,
            "min_height": null,
            "min_width": null,
            "object_fit": null,
            "object_position": null,
            "order": null,
            "overflow": null,
            "overflow_x": null,
            "overflow_y": null,
            "padding": null,
            "right": null,
            "top": null,
            "visibility": null,
            "width": null
          }
        },
        "66f90a74d09646f7aed176ab6d469b03": {
          "model_module": "@jupyter-widgets/controls",
          "model_name": "DescriptionStyleModel",
          "model_module_version": "1.5.0",
          "state": {
            "_model_module": "@jupyter-widgets/controls",
            "_model_module_version": "1.5.0",
            "_model_name": "DescriptionStyleModel",
            "_view_count": null,
            "_view_module": "@jupyter-widgets/base",
            "_view_module_version": "1.2.0",
            "_view_name": "StyleView",
            "description_width": ""
          }
        }
      }
    }
  },
  "nbformat": 4,
  "nbformat_minor": 0
}